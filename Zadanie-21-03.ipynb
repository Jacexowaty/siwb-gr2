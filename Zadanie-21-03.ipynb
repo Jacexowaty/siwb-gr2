{
 "cells": [
  {
   "cell_type": "code",
   "execution_count": null,
   "metadata": {},
   "outputs": [],
   "source": [
    "class Pojazd:\n",
    "    kategoria_prawa_jazdy = None\n",
    "\n",
    "    def __init__(self,marka,model):\n",
    "        self.marka = marka\n",
    "        self.model = model\n",
    "\n",
    "    def opis(self):\n",
    "        return f\"Pojazd marki {self.marka}, model {self.model}\"\n",
    "    \n",
    "class Samochod(Pojazd):\n",
    "    kategoria_prawa_jazdy = 'B'\n",
    "\n",
    "    def __init__(self, marka, model, segment):\n",
    "        super().__init__(marka, model)\n",
    "        self.segment = segment\n",
    "    \n",
    "    def opis(self):\n",
    "        return f\"Samochód marki {self.marka}, model {self.model}, typu {self.segment}\"\n",
    "    \n",
    "class Motocykl(Pojazd):\n",
    "    kategoria_prawa_jazdy = 'A'\n",
    "\n",
    "        "
   ]
  },
  {
   "cell_type": "code",
   "execution_count": 10,
   "metadata": {},
   "outputs": [
    {
     "data": {
      "text/plain": [
       "('Samochód marki Opel, model Vectra, typu Sedan',\n",
       " 'Pojazd marki Yamaha, model FZ6')"
      ]
     },
     "execution_count": 10,
     "metadata": {},
     "output_type": "execute_result"
    }
   ],
   "source": [
    "p = Samochod(\"Opel\",\"Vectra\",\"Sedan\")\n",
    "m = Motocykl(\"Yamaha\",\"FZ6\")\n",
    "p.opis(), m.opis()"
   ]
  },
  {
   "cell_type": "code",
   "execution_count": null,
   "metadata": {},
   "outputs": [
    {
     "data": {
      "text/plain": [
       "'A'"
      ]
     },
     "execution_count": 12,
     "metadata": {},
     "output_type": "execute_result"
    }
   ],
   "source": [
    "m.kategoria_prawa_jazdy"
   ]
  },
  {
   "cell_type": "code",
   "execution_count": 13,
   "metadata": {},
   "outputs": [],
   "source": [
    "def przedstaw_pojazd(pojazd: Pojazd):\n",
    "    print(pojazd.opis())\n"
   ]
  },
  {
   "cell_type": "code",
   "execution_count": 14,
   "metadata": {},
   "outputs": [
    {
     "name": "stdout",
     "output_type": "stream",
     "text": [
      "Samochód marki Opel, model Vectra, typu Sedan\n",
      "Pojazd marki Yamaha, model FZ6\n",
      "Samochód marki FSC, model Star, typu Ciężarowy\n"
     ]
    }
   ],
   "source": [
    "przedstaw_pojazd(p)\n",
    "przedstaw_pojazd(m)\n",
    "przedstaw_pojazd(Samochod(\"FSC\",\"Star\",\"Ciężarowy\"))"
   ]
  },
  {
   "cell_type": "code",
   "execution_count": 28,
   "metadata": {},
   "outputs": [],
   "source": [
    "#zdefiniuj klase garaz ktora ma pola: lista pojazdow, metody: dodaj_pojazd, przedstaw_pojazdy (wypisuje informacje o pojazdach)\n",
    "\n",
    "class Garaz:\n",
    "\tdef __init__(self):\n",
    "\t\tself.lista_pojazdow = []\n",
    "\n",
    "\tdef dodaj_pojazd(self, pojazd: Pojazd):\n",
    "\t\tif isinstance(pojazd,Pojazd):\n",
    "\t\t\tself.lista_pojazdow.append(pojazd)\n",
    "\t\telse:\n",
    "\t\t\traise TypeError(\"Tylko pojazdy mogą wjechać do garażu\")\n",
    "\n",
    "\tdef przedstaw_pojazdy(self):\n",
    "\t\tfor pojazd in self.lista_pojazdow:\n",
    "\t\t\tprint(pojazd.opis())\n"
   ]
  },
  {
   "cell_type": "code",
   "execution_count": 29,
   "metadata": {},
   "outputs": [
    {
     "name": "stdout",
     "output_type": "stream",
     "text": [
      "Samochód marki Opel, model Vectra, typu Sedan\n",
      "Pojazd marki Yamaha, model FZ6\n",
      "---\n",
      "Samochód marki Opel, model Vectra, typu Sedan\n",
      "Pojazd marki Yamaha, model FZ6\n",
      "Samochód marki FSC, model Star, typu Ciężarowy\n"
     ]
    }
   ],
   "source": [
    "garaz = Garaz()\n",
    "\n",
    "garaz.dodaj_pojazd(p)\n",
    "garaz.dodaj_pojazd(m)\n",
    "\n",
    "garaz.przedstaw_pojazdy()\n",
    "print(\"---\")\n",
    "garaz.dodaj_pojazd(Samochod(\"FSC\",\"Star\",\"Ciężarowy\"))\n",
    "\n",
    "garaz.przedstaw_pojazdy()"
   ]
  },
  {
   "cell_type": "code",
   "execution_count": 51,
   "metadata": {},
   "outputs": [],
   "source": [
    "class Silnik:\n",
    "    def __init__(self, pojemnosc, moc):\n",
    "        self.pojemnosc = pojemnosc\n",
    "        self.moc = moc\n",
    "\n",
    "    def __str__(self):\n",
    "        return f\"{self.pojemnosc}, {self.moc}\"\n",
    "\n",
    "class Pojazd:\n",
    "    kategoria_prawa_jazdy = None\n",
    "\n",
    "    def __init__(self, marka, model, silnik):\n",
    "        self.marka = marka\n",
    "        self.model = model\n",
    "        self.silnik = silnik\n",
    "\n",
    "    def opis(self):\n",
    "        return f\"Pojazd marki {self.marka}, model {self.model}, silnik {self.silnik}\"\n",
    "\n",
    "class Samochod(Pojazd):\n",
    "    kategoria_prawa_jazdy = 'B'\n",
    "\n",
    "    def __init__(self, marka, model, segment, silnik):\n",
    "        super().__init__(marka, model, silnik)\n",
    "        self.segment = segment\n",
    "\n",
    "    def opis(self):\n",
    "        return f\"Samochód marki {self.marka}, model {self.model}, typu {self.segment}, silnik {self.silnik}\"\n",
    "\n",
    "class Motocykl(Pojazd):\n",
    "    kategoria_prawa_jazdy = 'A'\n",
    "        "
   ]
  },
  {
   "cell_type": "code",
   "execution_count": 52,
   "metadata": {},
   "outputs": [
    {
     "data": {
      "text/plain": [
       "'Samochód marki VW, model Passat, typu Kombi, silnik 1900, 120'"
      ]
     },
     "execution_count": 52,
     "metadata": {},
     "output_type": "execute_result"
    }
   ],
   "source": [
    "s1 = Samochod(\"VW\",\"Passat\", \"Kombi\", Silnik(1900, 120))\n",
    "s1.opis()"
   ]
  },
  {
   "cell_type": "code",
   "execution_count": 53,
   "metadata": {},
   "outputs": [],
   "source": [
    "#istnieje hierarchia: zwirzeta pod sobą ma kregowce i bezkręgowce, kręgowce mają pod sobą ssaki, ptaki i ryby, bezkręgowce mają pod sobą owady i pierscienice.zdefiniuj medoty w odpowiednich miejscach (przemieszczenie i czy_ma_kregoslup)\n",
    "class Zwierze:\n",
    "    def przemieszczanie(self):\n",
    "        raise NotImplementedError\n",
    "\n",
    "    def czy_ma_kregoslup(self):\n",
    "        raise NotImplementedError\n",
    "\n",
    "class Kregowiec(Zwierze):\n",
    "    def czy_ma_kregoslup(self):\n",
    "        return True\n",
    "\n",
    "class Bezkręgowiec(Zwierze):\n",
    "    def czy_ma_kregoslup(self):\n",
    "        return False\n",
    "\n",
    "class Ssaki(Kregowiec):\n",
    "    def przemieszczanie(self):\n",
    "        return \"chodzi\"\n",
    "\n",
    "class Ptaki(Kregowiec):\n",
    "    def przemieszczanie(self):\n",
    "        return \"lata\"\n",
    "\n",
    "class Ryby(Kregowiec):\n",
    "    def przemieszczanie(self):\n",
    "        return \"plywa\"\n",
    "\n",
    "class Owady(Bezkręgowiec):\n",
    "    def przemieszczanie(self):\n",
    "        return \"lata\"\n",
    "\n",
    "class Pierscienice(Bezkręgowiec):\n",
    "    def przemieszczanie(self):\n",
    "        return \"pełza\""
   ]
  },
  {
   "cell_type": "code",
   "execution_count": 50,
   "metadata": {},
   "outputs": [
    {
     "name": "stdout",
     "output_type": "stream",
     "text": [
      "Ssaki: przemieszczanie = chodzi, czy_ma_kregoslup = True\n",
      "Ptaki: przemieszczanie = lata, czy_ma_kregoslup = True\n",
      "Ryby: przemieszczanie = plywa, czy_ma_kregoslup = True\n",
      "Owady: przemieszczanie = lata, czy_ma_kregoslup = False\n",
      "Pierscienice: przemieszczanie = pełza, czy_ma_kregoslup = False\n"
     ]
    }
   ],
   "source": [
    "zwierze1 = Ssaki()\n",
    "zwierze2 = Ptaki()\n",
    "zwierze3 = Ryby()\n",
    "zwierze4 = Owady()\n",
    "zwierze5 = Pierscienice()\n",
    "\n",
    "print(f\"Ssaki: przemieszczanie = {zwierze1.przemieszczanie()}, czy_ma_kregoslup = {zwierze1.czy_ma_kregoslup()}\")\n",
    "print(f\"Ptaki: przemieszczanie = {zwierze2.przemieszczanie()}, czy_ma_kregoslup = {zwierze2.czy_ma_kregoslup()}\")\n",
    "print(f\"Ryby: przemieszczanie = {zwierze3.przemieszczanie()}, czy_ma_kregoslup = {zwierze3.czy_ma_kregoslup()}\")\n",
    "print(f\"Owady: przemieszczanie = {zwierze4.przemieszczanie()}, czy_ma_kregoslup = {zwierze4.czy_ma_kregoslup()}\")\n",
    "print(f\"Pierscienice: przemieszczanie = {zwierze5.przemieszczanie()}, czy_ma_kregoslup = {zwierze5.czy_ma_kregoslup()}\")"
   ]
  },
  {
   "cell_type": "code",
   "execution_count": 58,
   "metadata": {},
   "outputs": [],
   "source": [
    "class Zwierze:\n",
    "    def __init__(self,nazwa):\n",
    "        self.imie = nazwa\n",
    "\n",
    "    def przemieszczenie(self):\n",
    "        raise NotImplementedError(\"Do zdefiniowania w klasach pochodnych\")\n",
    "    \n",
    "class Kregowiec:\n",
    "    def czy_ma_kregoslup(self):\n",
    "        return True\n",
    "    \n",
    "class Bezkregowiec:\n",
    "    def czy_ma_kregoslup(self):\n",
    "        return False\n",
    "    \n",
    "class Ssak(Kregowiec):\n",
    "    def przemieszczenie(self):\n",
    "        return f\"{self.imie} chodzi\"\n",
    "    \n",
    "class Ryba(Kregowiec):\n",
    "    def przemieszczenie(self):\n",
    "        return f\"{self.imie} plywa\"\n",
    "    \n",
    "class Ptak(Kregowiec):\n",
    "    def przemieszczenie(self):\n",
    "        return f\"{self.imie} lata\"\n",
    "    \n",
    "class Pierscienica(Bezkregowiec):\n",
    "    def przemieszczenie(self):\n",
    "        return f\"{self.imie} pelza\""
   ]
  },
  {
   "cell_type": "code",
   "execution_count": 59,
   "metadata": {},
   "outputs": [
    {
     "ename": "TypeError",
     "evalue": "Ssak() takes no arguments",
     "output_type": "error",
     "traceback": [
      "\u001b[31m---------------------------------------------------------------------------\u001b[39m",
      "\u001b[31mTypeError\u001b[39m                                 Traceback (most recent call last)",
      "\u001b[36mCell\u001b[39m\u001b[36m \u001b[39m\u001b[32mIn[59]\u001b[39m\u001b[32m, line 1\u001b[39m\n\u001b[32m----> \u001b[39m\u001b[32m1\u001b[39m jelen = \u001b[43mSsak\u001b[49m\u001b[43m(\u001b[49m\u001b[33;43m\"\u001b[39;49m\u001b[33;43mJelen\u001b[39;49m\u001b[33;43m\"\u001b[39;49m\u001b[43m)\u001b[49m\n",
      "\u001b[31mTypeError\u001b[39m: Ssak() takes no arguments"
     ]
    }
   ],
   "source": [
    "jelen = Ssak(\"Jelen\")"
   ]
  },
  {
   "cell_type": "code",
   "execution_count": 56,
   "metadata": {},
   "outputs": [
    {
     "ename": "NameError",
     "evalue": "name 'jelen' is not defined",
     "output_type": "error",
     "traceback": [
      "\u001b[31m---------------------------------------------------------------------------\u001b[39m",
      "\u001b[31mNameError\u001b[39m                                 Traceback (most recent call last)",
      "\u001b[36mCell\u001b[39m\u001b[36m \u001b[39m\u001b[32mIn[56]\u001b[39m\u001b[32m, line 1\u001b[39m\n\u001b[32m----> \u001b[39m\u001b[32m1\u001b[39m \u001b[43mjelen\u001b[49m.czy_ma_kregoslup\n",
      "\u001b[31mNameError\u001b[39m: name 'jelen' is not defined"
     ]
    }
   ],
   "source": [
    "jelen.czy_ma_kregoslup"
   ]
  }
 ],
 "metadata": {
  "kernelspec": {
   "display_name": "Python 3",
   "language": "python",
   "name": "python3"
  },
  "language_info": {
   "codemirror_mode": {
    "name": "ipython",
    "version": 3
   },
   "file_extension": ".py",
   "mimetype": "text/x-python",
   "name": "python",
   "nbconvert_exporter": "python",
   "pygments_lexer": "ipython3",
   "version": "3.11.9"
  }
 },
 "nbformat": 4,
 "nbformat_minor": 2
}
