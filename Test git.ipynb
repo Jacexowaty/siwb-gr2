{
 "cells": [
  {
   "cell_type": "code",
   "execution_count": null,
   "id": "98336130",
   "metadata": {},
   "outputs": [],
   "source": [
    "abc"
   ]
  }
 ],
 "metadata": {
  "language_info": {
   "name": "python"
  }
 },
 "nbformat": 4,
 "nbformat_minor": 5
}
