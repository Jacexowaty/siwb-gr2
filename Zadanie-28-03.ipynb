{
 "cells": [
  {
   "cell_type": "code",
   "execution_count": 1,
   "metadata": {},
   "outputs": [],
   "source": [
    "a = 5\n",
    "b = 10"
   ]
  },
  {
   "cell_type": "code",
   "execution_count": 2,
   "metadata": {},
   "outputs": [
    {
     "data": {
      "text/plain": [
       "int"
      ]
     },
     "execution_count": 2,
     "metadata": {},
     "output_type": "execute_result"
    }
   ],
   "source": [
    "type(a)"
   ]
  },
  {
   "cell_type": "code",
   "execution_count": 3,
   "metadata": {},
   "outputs": [],
   "source": [
    "l1 = [1,2,3]\n",
    "l2 = [4,5,6]"
   ]
  },
  {
   "cell_type": "code",
   "execution_count": 4,
   "metadata": {},
   "outputs": [
    {
     "data": {
      "text/plain": [
       "array([5, 7, 9])"
      ]
     },
     "execution_count": 4,
     "metadata": {},
     "output_type": "execute_result"
    }
   ],
   "source": [
    "import numpy as np\n",
    "a1 = np.array(l1)\n",
    "a2 = np.array(l2)\n",
    "\n",
    "a1+a2"
   ]
  },
  {
   "cell_type": "code",
   "execution_count": 51,
   "metadata": {},
   "outputs": [],
   "source": [
    "class Vector2D:\n",
    "    def __init__(self, x, y):\n",
    "        self.x = x\n",
    "        self.y = y\n",
    "\n",
    "    def __repr__(self):\n",
    "        return f\"Vector2D({self.x}, {self.y})\"\n",
    "    \n",
    "    def __add__(self, v2):\n",
    "\n",
    "        if isinstance(v2,Vector2D,):\n",
    "            v_new = Vector2D(self.x + v2.x, self.y + v2.y)  \n",
    "            return v_new\n",
    "        else:\n",
    "            return None\n",
    "    \n",
    "    def __sub__(self,v2):\n",
    "\n",
    "        if isinstance(v2,Vector2D):\n",
    "            v_new = Vector2D(self.x - v2.x, self.y - v2.y)  \n",
    "            return v_new\n",
    "        else:\n",
    "            return None\n",
    "        \n",
    "    def __mul__(self,b):\n",
    "\n",
    "        if isinstance(b, (int,float)):\n",
    "            return Vector2D(b * self.x, b * self.y)\n",
    "        elif isinstance(b,Vector2D):\n",
    "            return self.x * b.x + self.y * b.y\n",
    "        else:\n",
    "            return None\n",
    "        \n",
    "    def __rmul__(self,b):\n",
    "\n",
    "        return self*b\n",
    "      "
   ]
  },
  {
   "cell_type": "code",
   "execution_count": 52,
   "metadata": {},
   "outputs": [],
   "source": [
    "v1 = Vector2D(5, 2)\n",
    "v2 = Vector2D(6, 4)"
   ]
  },
  {
   "cell_type": "code",
   "execution_count": 53,
   "metadata": {},
   "outputs": [
    {
     "data": {
      "text/plain": [
       "Vector2D(11, 6)"
      ]
     },
     "execution_count": 53,
     "metadata": {},
     "output_type": "execute_result"
    }
   ],
   "source": [
    "v1+v2"
   ]
  },
  {
   "cell_type": "code",
   "execution_count": 54,
   "metadata": {},
   "outputs": [
    {
     "data": {
      "text/plain": [
       "Vector2D(-1, -2)"
      ]
     },
     "execution_count": 54,
     "metadata": {},
     "output_type": "execute_result"
    }
   ],
   "source": [
    "v1-v2"
   ]
  },
  {
   "cell_type": "code",
   "execution_count": 55,
   "metadata": {},
   "outputs": [
    {
     "data": {
      "text/plain": [
       "Vector2D(25, 10)"
      ]
     },
     "execution_count": 55,
     "metadata": {},
     "output_type": "execute_result"
    }
   ],
   "source": [
    "v1 * 5"
   ]
  },
  {
   "cell_type": "code",
   "execution_count": 56,
   "metadata": {},
   "outputs": [
    {
     "data": {
      "text/plain": [
       "Vector2D(25, 10)"
      ]
     },
     "execution_count": 56,
     "metadata": {},
     "output_type": "execute_result"
    }
   ],
   "source": [
    "5 * v1"
   ]
  },
  {
   "cell_type": "code",
   "execution_count": null,
   "metadata": {},
   "outputs": [],
   "source": [
    "#ćwiczenie - liczby zespolone\n",
    "#1. zaimplementuj klase ktorą reprezentują liczby zespolone\n",
    "#2. zaimplementuj dodawanie, odejmowanie i mnożenie liczb zespolonych\n",
    "#3. zaimplementuj moduł liczby zespolonej\n",
    "#4. zaimplementuj porównywanie liczb zespolonych (sprawdź odpowiedni operator w dokumentacji pythona)\n",
    "#5. zaimplementuj konwersję liczby zespolonej na stringa \n"
   ]
  },
  {
   "cell_type": "code",
   "execution_count": 96,
   "metadata": {},
   "outputs": [],
   "source": [
    "class LiczbaZespolona:\n",
    "    def __init__(self, rzeczywista, urojona):\n",
    "        self.rzeczywista = rzeczywista\n",
    "        self.urojona = urojona\n",
    "\n",
    "    def __repr__(self):\n",
    "        return f\"{self.rzeczywista} + {self.urojona}i\"\n",
    "\n",
    "    def __add__(self, x):\n",
    "        return LiczbaZespolona(self.rzeczywista + x.rzeczywista, self.urojona + x.urojona)\n",
    "\n",
    "    def __sub__(self, x):\n",
    "        return LiczbaZespolona(self.rzeczywista - x.rzeczywista, self.urojona - x.urojona)\n",
    "\n",
    "    def __mul__(self, x):\n",
    "        prawdziwa_a = self.rzeczywista * x.rzeczywista - self.urojona * x.urojona\n",
    "        urojona_b = self.rzeczywista * x.urojona + self.urojona * x.rzeczywista\n",
    "        return LiczbaZespolona(prawdziwa_a, urojona_b)\n",
    "\n",
    "    def modol(self):\n",
    "        return (self.rzeczywista**2 + self.urojona**2)**0.5\n",
    "\n",
    "    def porownanie(self, x):\n",
    "        return self.rzeczywista == x.rzeczywista and self.urojona == x.urojona\n",
    "\n",
    "    def str(self):\n",
    "        return f\"({self.rzeczywista} + {self.urojona}i)\"\n"
   ]
  },
  {
   "cell_type": "code",
   "execution_count": 97,
   "metadata": {},
   "outputs": [
    {
     "name": "stdout",
     "output_type": "stream",
     "text": [
      "11 + 6i\n",
      "-1 + -2i\n",
      "22 + 32i\n",
      "5.385164807134504\n",
      "False\n",
      "5 + 2i\n"
     ]
    }
   ],
   "source": [
    "# Tworzenie dwóch liczb zespolonych\n",
    "z1 = LiczbaZespolona(5, 2)\n",
    "z2 = LiczbaZespolona(6, 4)\n",
    "\n",
    "# Operacje arytmetyczne\n",
    "print(z1 + z2)  \n",
    "print(z1 - z2)  \n",
    "print(z2 * z1) \n",
    "\n",
    "# Moduł liczby zespolonej\n",
    "print(z1.modol()) \n",
    "\n",
    "# Porównywanie\n",
    "print(z1 == z2) \n",
    "\n",
    "# Konwersja na stringa\n",
    "print(str(z1)) \n"
   ]
  },
  {
   "cell_type": "code",
   "execution_count": null,
   "metadata": {},
   "outputs": [],
   "source": []
  },
  {
   "cell_type": "code",
   "execution_count": null,
   "metadata": {},
   "outputs": [],
   "source": [
    "#1. Zaimplementować klasę reprezentującą wielomian kwadratowy. wielomian ma postać ax^2 + bx + c.\n",
    "#2. zaimplementuj dodawanie i odejmowanie wielomianów.\n",
    "#3. zaimplementuj obliczanie wartości wielomianu dla danego x.\n",
    "#4. zaimplementuj mnożenie wielomianu przez skalar."
   ]
  },
  {
   "cell_type": "code",
   "execution_count": 106,
   "metadata": {},
   "outputs": [],
   "source": [
    "class WielomianKwadratowy:\n",
    "    def __init__(self, a, b, c):\n",
    "        self.a = a\n",
    "        self.b = b\n",
    "        self.c = c\n",
    "\n",
    "    def __repr__(self):\n",
    "        return f\"{self.a}x^2 + {self.b}x + {self.c}\"\n",
    "\n",
    "    def __add__(self, x):\n",
    "        if isinstance(x, WielomianKwadratowy):\n",
    "            return WielomianKwadratowy(self.a + x.a, self.b + x.b, self.c + x.c)\n",
    "        else:\n",
    "            return None\n",
    "\n",
    "    def __sub__(self, x):\n",
    "        if isinstance(x, WielomianKwadratowy):\n",
    "            return WielomianKwadratowy(self.a - x.a, self.b - x.b, self.c - x.c)\n",
    "        else:\n",
    "            return None\n",
    "\n",
    "    def wartosc(self, x):\n",
    "        return self.a * x**2 + self.b * x + self.c\n",
    "\n",
    "    def __mul__(self, skalar):\n",
    "        if isinstance(skalar, (int, float)):\n",
    "            return WielomianKwadratowy(self.a * skalar, self.b * skalar, self.c * skalar)\n",
    "        else:\n",
    "            return None\n",
    "\n",
    "    def __rmul__(self, skalar):\n",
    "        return self * skalar"
   ]
  },
  {
   "cell_type": "code",
   "execution_count": 108,
   "metadata": {},
   "outputs": [
    {
     "name": "stdout",
     "output_type": "stream",
     "text": [
      "Dodawanie: 3x^2 + 2x + 6\n",
      "Odejmowanie: 1x^2 + 4x + 2\n",
      "Wartość wielomianu 2x^2 + 3x + 4 dla x=2: 18\n",
      "Mnożenie wielomianu 2x^2 + 3x + 4 przez skalar 3: 6x^2 + 9x + 12\n",
      "Mnożenie przez skalar 3 wielomianu 2x^2 + 3x + 4: 6x^2 + 9x + 12\n"
     ]
    }
   ],
   "source": [
    "w1 = WielomianKwadratowy(2, 3, 4)  # 2x^2 + 3x + 4\n",
    "w2 = WielomianKwadratowy(1, -1, 2)  # x^2 - x + 2\n",
    "\n",
    "# Dodawanie wielomianów\n",
    "print(\"Dodawanie:\", w1 + w2)  # (2+1)x^2 + (3-1)x + (4+2)\n",
    "\n",
    "# Odejmowanie wielomianów\n",
    "print(\"Odejmowanie:\", w1 - w2)  # (2-1)x^2 + (3+1)x + (4-2)\n",
    "\n",
    "# Obliczanie wartości wielomianu dla danego x\n",
    "x_value = 2\n",
    "print(f\"Wartość wielomianu {w1} dla x={x_value}:\", w1.wartosc(x_value))\n",
    "\n",
    "skalar = 3\n",
    "print(f\"Mnożenie wielomianu {w1} przez skalar {skalar}:\", w1 * skalar)\n",
    "\n",
    "print(f\"Mnożenie przez skalar {skalar} wielomianu {w1}:\", skalar * w1)"
   ]
  }
 ],
 "metadata": {
  "kernelspec": {
   "display_name": "Python 3",
   "language": "python",
   "name": "python3"
  },
  "language_info": {
   "codemirror_mode": {
    "name": "ipython",
    "version": 3
   },
   "file_extension": ".py",
   "mimetype": "text/x-python",
   "name": "python",
   "nbconvert_exporter": "python",
   "pygments_lexer": "ipython3",
   "version": "3.11.9"
  }
 },
 "nbformat": 4,
 "nbformat_minor": 2
}
