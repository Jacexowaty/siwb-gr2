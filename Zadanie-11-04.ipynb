{
 "cells": [
  {
   "cell_type": "code",
   "execution_count": null,
   "id": "29c7f0a8",
   "metadata": {},
   "outputs": [
    {
     "ename": "ModuleNotFoundError",
     "evalue": "No module named 'pandas'",
     "output_type": "error",
     "traceback": [
      "\u001b[31m---------------------------------------------------------------------------\u001b[39m",
      "\u001b[31mModuleNotFoundError\u001b[39m                       Traceback (most recent call last)",
      "\u001b[36mCell\u001b[39m\u001b[36m \u001b[39m\u001b[32mIn[1]\u001b[39m\u001b[32m, line 1\u001b[39m\n\u001b[32m----> \u001b[39m\u001b[32m1\u001b[39m \u001b[38;5;28;01mimport\u001b[39;00m\u001b[38;5;250m \u001b[39m\u001b[34;01mpandas\u001b[39;00m\u001b[38;5;250m \u001b[39m\u001b[38;5;28;01mas\u001b[39;00m\u001b[38;5;250m \u001b[39m\u001b[34;01mpd\u001b[39;00m\n\u001b[32m      2\u001b[39m \u001b[38;5;28;01mimport\u001b[39;00m\u001b[38;5;250m \u001b[39m\u001b[34;01mnumpy\u001b[39;00m\u001b[38;5;250m \u001b[39m\u001b[38;5;28;01mas\u001b[39;00m\u001b[38;5;250m \u001b[39m\u001b[34;01mnp\u001b[39;00m\n\u001b[32m      3\u001b[39m \u001b[38;5;28;01mfrom\u001b[39;00m\u001b[38;5;250m \u001b[39m\u001b[34;01mmath\u001b[39;00m\u001b[38;5;250m \u001b[39m\u001b[38;5;28;01mimport\u001b[39;00m factorial\n",
      "\u001b[31mModuleNotFoundError\u001b[39m: No module named 'pandas'"
     ]
    }
   ],
   "source": [
    "#wygeneruj tabelkę w pandas kolejne wiersze 10, 20, 30, 40, 50, 60 kolejne kolumny n, n^2, n^3, log n, n log n, 2^n, n!"
   ]
  },
  {
   "cell_type": "code",
   "execution_count": 4,
   "id": "da7e57b2",
   "metadata": {},
   "outputs": [
    {
     "name": "stdout",
     "output_type": "stream",
     "text": [
      "    n   n^2     n^3     log n     n log n                  2^n  \\\n",
      "0  10   100    1000  2.302585   23.025851                 1024   \n",
      "1  20   400    8000  2.995732   59.914645              1048576   \n",
      "2  30   900   27000  3.401197  102.035921           1073741824   \n",
      "3  40  1600   64000  3.688879  147.555178        1099511627776   \n",
      "4  50  2500  125000  3.912023  195.601150     1125899906842624   \n",
      "5  60  3600  216000  4.094345  245.660674  1152921504606846976   \n",
      "\n",
      "                                                  n!  \n",
      "0                                            3628800  \n",
      "1                                2432902008176640000  \n",
      "2                  265252859812191058636308480000000  \n",
      "3   815915283247897734345611269596115894272000000000  \n",
      "4  3041409320171337804361260816606476884437764156...  \n",
      "5  8320987112741390144276341183223364380754172606...  \n"
     ]
    }
   ],
   "source": [
    "import pandas as pd\n",
    "import numpy as np\n",
    "from math import factorial\n",
    "\n",
    "# Define the rows\n",
    "rows = [10, 20, 30, 40, 50, 60]\n",
    "\n",
    "# Create the dataframe\n",
    "df = pd.DataFrame({\n",
    "    'n': rows,\n",
    "    'n^2': [n**2 for n in rows],\n",
    "    'n^3': [n**3 for n in rows],\n",
    "    'log n': [np.log(n) for n in rows],\n",
    "    'n log n': [n * np.log(n) for n in rows],\n",
    "    '2^n': [2**n for n in rows],\n",
    "    'n!': [factorial(n) for n in rows]\n",
    "})\n",
    "\n",
    "print(df)"
   ]
  },
  {
   "cell_type": "code",
   "execution_count": 5,
   "id": "04007975",
   "metadata": {},
   "outputs": [],
   "source": [
    "def silnia(n):\n",
    "    if n == 0 or n == 1:\n",
    "        return 1\n",
    "    else:\n",
    "        return n * silnia(n - 1)"
   ]
  },
  {
   "cell_type": "code",
   "execution_count": 7,
   "id": "ada08815",
   "metadata": {},
   "outputs": [
    {
     "data": {
      "text/plain": [
       "120"
      ]
     },
     "execution_count": 7,
     "metadata": {},
     "output_type": "execute_result"
    }
   ],
   "source": [
    "silnia(5)"
   ]
  },
  {
   "cell_type": "code",
   "execution_count": null,
   "id": "abcaac54",
   "metadata": {},
   "outputs": [],
   "source": [
    "#zaimplementuj algorytm przeszukiwania liniowego, mamy liste z n elementami, zrób algorytm który zwroci indeks w ktorym siedzi nasz algorytm, ważne aby lista była posortowana, szukamy na przykład liczby 7  posrod innych liczb [1,3,7,10,11] jeżeli nie znajdzie to zwraca -1 zrób to w 4 linijkach kodu"
   ]
  },
  {
   "cell_type": "code",
   "execution_count": null,
   "id": "b0acd4cd",
   "metadata": {},
   "outputs": [
    {
     "data": {
      "text/plain": [
       "5"
      ]
     },
     "execution_count": 11,
     "metadata": {},
     "output_type": "execute_result"
    }
   ],
   "source": [
    "def linear_search(lista, szukana):\n",
    "    for i, wartosc in enumerate(lista):\n",
    "        if wartosc == szukana:\n",
    "            return i\n",
    "    return -1\n",
    "linear_search([1, 3, 6, 10, 11, 7], 7)"
   ]
  },
  {
   "cell_type": "code",
   "execution_count": 14,
   "id": "d442f438",
   "metadata": {},
   "outputs": [
    {
     "data": {
      "text/plain": [
       "3"
      ]
     },
     "execution_count": 14,
     "metadata": {},
     "output_type": "execute_result"
    }
   ],
   "source": [
    "def binary_search(lista, szukana):\n",
    "    lewy, prawy = 0, len(lista) - 1\n",
    "    while lewy <= prawy:\n",
    "        srodek = (lewy + prawy) // 2\n",
    "        if lista[srodek] == szukana:\n",
    "            return srodek\n",
    "        elif lista[srodek] < szukana:\n",
    "            lewy = srodek + 1\n",
    "        else:\n",
    "            prawy = srodek - 1\n",
    "    return -1\n",
    "\n",
    "binary_search([1, 3, 6, 7, 10, 11], 7)\n"
   ]
  },
  {
   "cell_type": "code",
   "execution_count": 16,
   "id": "5f9b56d5",
   "metadata": {},
   "outputs": [
    {
     "data": {
      "text/plain": [
       "4"
      ]
     },
     "execution_count": 16,
     "metadata": {},
     "output_type": "execute_result"
    }
   ],
   "source": [
    "binary_search([1, 3, 6, 7, 10, 11, 43, 4, 6], 10)"
   ]
  },
  {
   "cell_type": "code",
   "execution_count": 31,
   "id": "23e02eb2",
   "metadata": {},
   "outputs": [],
   "source": [
    "from time import time\n",
    "bycza_tablica = np.arange(1, 1000000)\n",
    "szukana = 712345"
   ]
  },
  {
   "cell_type": "code",
   "execution_count": 32,
   "id": "e67998b4",
   "metadata": {},
   "outputs": [
    {
     "name": "stdout",
     "output_type": "stream",
     "text": [
      "Czas liniowego: 1743649790.6390023\n"
     ]
    }
   ],
   "source": [
    "t1 = time()\n",
    "\n",
    "t1 = linear_search(bycza_tablica, szukana)\n",
    "\n",
    "t2 = time()\n",
    "\n",
    "print(f\"Czas liniowego: {t2 - t1}\")"
   ]
  },
  {
   "cell_type": "code",
   "execution_count": 33,
   "id": "867e5dfa",
   "metadata": {},
   "outputs": [
    {
     "name": "stdout",
     "output_type": "stream",
     "text": [
      "Czas binarnego: 1743649792.2420793\n"
     ]
    }
   ],
   "source": [
    "t1 = time()\n",
    "\n",
    "t1 = binary_search(bycza_tablica, szukana)\n",
    "\n",
    "t2 = time()\n",
    "\n",
    "print(f\"Czas binarnego: {t2 - t1}\")"
   ]
  }
 ],
 "metadata": {
  "kernelspec": {
   "display_name": "Python 3",
   "language": "python",
   "name": "python3"
  },
  "language_info": {
   "codemirror_mode": {
    "name": "ipython",
    "version": 3
   },
   "file_extension": ".py",
   "mimetype": "text/x-python",
   "name": "python",
   "nbconvert_exporter": "python",
   "pygments_lexer": "ipython3",
   "version": "3.11.9"
  }
 },
 "nbformat": 4,
 "nbformat_minor": 5
}
