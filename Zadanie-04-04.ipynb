{
 "cells": [
  {
   "cell_type": "code",
   "execution_count": 25,
   "metadata": {},
   "outputs": [],
   "source": [
    "import numpy as np\n",
    "class Foo:\n",
    "\n",
    "    isinstance_count = 0\n",
    "\n",
    "    def __init__(self, value):\n",
    "        self.value = value\n",
    "        Foo.isinstance_count += 1\n",
    "\n",
    "    def __del__(self):\n",
    "        Foo.isinstance_count -= 1\n",
    "\n",
    "    #Metody statyczne\n",
    "\n",
    "    @staticmethod\n",
    "    def metoda_statyczna(argumnet):\n",
    "        print(f\"To jest metoda statyczna: {argumnet}\")\n",
    "\n",
    "    #Metody klasowe\n",
    "\n",
    "    @classmethod\n",
    "    def get_counts(cls):\n",
    "        print(f\"Istnieje: {cls.isinstance_count} obiektów klasy\")\n",
    "\n",
    "    @classmethod\n",
    "    def random_sin(cls):\n",
    "        rs = np.random(0,5)\n",
    "        return np.sin(rs)"
   ]
  },
  {
   "cell_type": "code",
   "execution_count": 2,
   "metadata": {},
   "outputs": [
    {
     "name": "stdout",
     "output_type": "stream",
     "text": [
      "To jest metoda statyczna: 997\n"
     ]
    }
   ],
   "source": [
    "Foo.metoda_statyczna(997)"
   ]
  },
  {
   "cell_type": "code",
   "execution_count": 5,
   "metadata": {},
   "outputs": [
    {
     "name": "stdout",
     "output_type": "stream",
     "text": [
      "Istnieje: 0 obiektów klasy\n"
     ]
    }
   ],
   "source": [
    "Foo.get_counts()"
   ]
  },
  {
   "cell_type": "code",
   "execution_count": 6,
   "metadata": {},
   "outputs": [
    {
     "name": "stdout",
     "output_type": "stream",
     "text": [
      "Istnieje: 2 obiektów klasy\n"
     ]
    }
   ],
   "source": [
    "s1 = Foo(10)\n",
    "s2 = Foo(20)\n",
    "\n",
    "Foo.get_counts()"
   ]
  },
  {
   "cell_type": "code",
   "execution_count": 7,
   "metadata": {},
   "outputs": [],
   "source": [
    "del s1"
   ]
  },
  {
   "cell_type": "code",
   "execution_count": 8,
   "metadata": {},
   "outputs": [
    {
     "name": "stdout",
     "output_type": "stream",
     "text": [
      "Istnieje: 1 obiektów klasy\n"
     ]
    }
   ],
   "source": [
    "Foo.get_counts()"
   ]
  },
  {
   "cell_type": "code",
   "execution_count": 30,
   "metadata": {},
   "outputs": [
    {
     "data": {
      "text/plain": [
       "<bound method Foo.random_sin of <class '__main__.Foo'>>"
      ]
     },
     "execution_count": 30,
     "metadata": {},
     "output_type": "execute_result"
    }
   ],
   "source": [
    "robj = Foo.random_sin\n",
    "robj"
   ]
  },
  {
   "cell_type": "code",
   "execution_count": 23,
   "metadata": {},
   "outputs": [],
   "source": [
    "#Konwerter temperatury\n",
    "#Zbuduj klasę Temperature o następujących cechach:\n",
    "#1. Metody statyczne do konwersji Farenheit na Celsjusza i odwrotnie.\n",
    "#2. W obiekcie ma przechowywać wyłącznie temperatura w stopniach celsjusza.\n",
    "#3. Utworzyć metody klasową pozwalającą na tworzenie obiektów podając temperature w farenheitach i kelvinach.\n",
    "    #1. from_farenheit\n",
    "    #2. from_kelvin\n",
    "\n",
    "class Temperature:\n",
    "    def __init__(self, celsius):\n",
    "        self.celsius = celsius\n",
    "\n",
    "    @staticmethod\n",
    "    def farenheit_to_celsius(farenheit):\n",
    "        return (farenheit - 32) * 5 / 9\n",
    "\n",
    "    @staticmethod\n",
    "    def celsius_to_farenheit(celsius):\n",
    "        return (celsius * 9 / 5) + 32\n",
    "\n",
    "    @classmethod\n",
    "    def from_farenheit(cls, farenheit):\n",
    "        celsius = cls.farenheit_to_celsius(farenheit)\n",
    "        return cls(celsius)\n",
    "\n",
    "    @classmethod\n",
    "    def from_kelvin(cls, kelvin):\n",
    "        celsius = kelvin - 273.15\n",
    "        return cls(celsius)\n",
    "    "
   ]
  },
  {
   "cell_type": "code",
   "execution_count": 24,
   "metadata": {},
   "outputs": [
    {
     "name": "stdout",
     "output_type": "stream",
     "text": [
      "Temperatura w Celsjuszach: 25°C\n",
      "Temperatura w Farenheitach: 77.0°F\n",
      "Temperatura w Kelvinach: 298.15K\n",
      "Temperatura w Celsjuszach: 25.0°C\n",
      "Temperatura w Kelwinach: 298.15K\n",
      "Temperatura w Celsjuszach: 25.0°C\n",
      "Temperatura w Farenheitach: 77.0°F\n"
     ]
    }
   ],
   "source": [
    "temp1 = Temperature(25)\n",
    "print(f\"Temperatura w Celsjuszach: {temp1.celsius}°C\")\n",
    "print(f\"Temperatura w Farenheitach: {Temperature.celsius_to_farenheit(temp1.celsius)}°F\")\n",
    "print(f\"Temperatura w Kelvinach: {temp1.celsius + 273.15}K\")\n",
    "temp2 = Temperature.from_farenheit(77)\n",
    "print(f\"Temperatura w Celsjuszach: {temp2.celsius}°C\")\n",
    "print(f\"Temperatura w Kelwinach: {temp2.celsius + 273.15}K\")\n",
    "temp3 = Temperature.from_kelvin(298.15)\n",
    "print(f\"Temperatura w Celsjuszach: {temp3.celsius}°C\")\n",
    "print(f\"Temperatura w Farenheitach: {Temperature.celsius_to_farenheit(temp3.celsius)}°F\")"
   ]
  },
  {
   "cell_type": "code",
   "execution_count": 33,
   "metadata": {},
   "outputs": [
    {
     "data": {
      "text/plain": [
       "str"
      ]
     },
     "execution_count": 33,
     "metadata": {},
     "output_type": "execute_result"
    }
   ],
   "source": [
    "#Metaklasy\n",
    "\n",
    "type(\"15.5\")"
   ]
  },
  {
   "cell_type": "code",
   "execution_count": 36,
   "metadata": {},
   "outputs": [],
   "source": [
    "MojaKlasa = type(\"Moja klasa\", (object,),{\"Parametr1\":10, \"Parametr2\":30} )"
   ]
  },
  {
   "cell_type": "code",
   "execution_count": 38,
   "metadata": {},
   "outputs": [],
   "source": [
    "o1 = MojaKlasa()"
   ]
  },
  {
   "cell_type": "code",
   "execution_count": 39,
   "metadata": {},
   "outputs": [
    {
     "data": {
      "text/plain": [
       "10"
      ]
     },
     "execution_count": 39,
     "metadata": {},
     "output_type": "execute_result"
    }
   ],
   "source": [
    "o1.Parametr1"
   ]
  },
  {
   "cell_type": "code",
   "execution_count": 55,
   "metadata": {},
   "outputs": [],
   "source": [
    "#Wymóg stosowania metod z małej litery\n",
    "\n",
    "class MethodNameValidator(type):\n",
    "    def __new__(cls, name, bases, dct):\n",
    "        for key in dct:\n",
    "            if callable(dct[key]) and not key.startswith(\"_\") and key[0].isupper():\n",
    "                raise ValueError(f\"Metoda '{key}' nie zaczyna się z małej litery.\")\n",
    "        return super().__new__(cls, name, bases, dct)\n",
    "\n"
   ]
  },
  {
   "cell_type": "code",
   "execution_count": 56,
   "metadata": {},
   "outputs": [
    {
     "ename": "ValueError",
     "evalue": "Metoda 'Zla_metoda' nie zaczyna się z małej litery.",
     "output_type": "error",
     "traceback": [
      "\u001b[31m---------------------------------------------------------------------------\u001b[39m",
      "\u001b[31mValueError\u001b[39m                                Traceback (most recent call last)",
      "\u001b[36mCell\u001b[39m\u001b[36m \u001b[39m\u001b[32mIn[56]\u001b[39m\u001b[32m, line 1\u001b[39m\n\u001b[32m----> \u001b[39m\u001b[32m1\u001b[39m \u001b[38;5;28;43;01mclass\u001b[39;49;00m\u001b[38;5;250;43m \u001b[39;49m\u001b[34;43;01mPrzykladowaKlasa\u001b[39;49;00m\u001b[43m(\u001b[49m\u001b[43mmetaclass\u001b[49m\u001b[43m=\u001b[49m\u001b[43mMethodNameValidator\u001b[49m\u001b[43m)\u001b[49m\u001b[43m:\u001b[49m\n\u001b[32m      2\u001b[39m \u001b[43m    \u001b[49m\u001b[38;5;28;43;01mdef\u001b[39;49;00m\u001b[38;5;250;43m \u001b[39;49m\u001b[34;43mdobra_metoda\u001b[39;49m\u001b[43m(\u001b[49m\u001b[38;5;28;43mself\u001b[39;49m\u001b[43m)\u001b[49m\u001b[43m:\u001b[49m\n\u001b[32m      3\u001b[39m \u001b[43m        \u001b[49m\u001b[38;5;28;43mprint\u001b[39;49m\u001b[43m(\u001b[49m\u001b[33;43m\"\u001b[39;49m\u001b[33;43mTo jest dobra metoda.\u001b[39;49m\u001b[33;43m\"\u001b[39;49m\u001b[43m)\u001b[49m\n",
      "\u001b[36mCell\u001b[39m\u001b[36m \u001b[39m\u001b[32mIn[55]\u001b[39m\u001b[32m, line 7\u001b[39m, in \u001b[36mMethodNameValidator.__new__\u001b[39m\u001b[34m(cls, name, bases, dct)\u001b[39m\n\u001b[32m      5\u001b[39m \u001b[38;5;28;01mfor\u001b[39;00m key \u001b[38;5;129;01min\u001b[39;00m dct:\n\u001b[32m      6\u001b[39m     \u001b[38;5;28;01mif\u001b[39;00m \u001b[38;5;28mcallable\u001b[39m(dct[key]) \u001b[38;5;129;01mand\u001b[39;00m \u001b[38;5;129;01mnot\u001b[39;00m key.startswith(\u001b[33m\"\u001b[39m\u001b[33m_\u001b[39m\u001b[33m\"\u001b[39m) \u001b[38;5;129;01mand\u001b[39;00m key[\u001b[32m0\u001b[39m].isupper():\n\u001b[32m----> \u001b[39m\u001b[32m7\u001b[39m         \u001b[38;5;28;01mraise\u001b[39;00m \u001b[38;5;167;01mValueError\u001b[39;00m(\u001b[33mf\u001b[39m\u001b[33m\"\u001b[39m\u001b[33mMetoda \u001b[39m\u001b[33m'\u001b[39m\u001b[38;5;132;01m{\u001b[39;00mkey\u001b[38;5;132;01m}\u001b[39;00m\u001b[33m'\u001b[39m\u001b[33m nie zaczyna się z małej litery.\u001b[39m\u001b[33m\"\u001b[39m)\n\u001b[32m      8\u001b[39m \u001b[38;5;28;01mreturn\u001b[39;00m \u001b[38;5;28msuper\u001b[39m().\u001b[34m__new__\u001b[39m(\u001b[38;5;28mcls\u001b[39m, name, bases, dct)\n",
      "\u001b[31mValueError\u001b[39m: Metoda 'Zla_metoda' nie zaczyna się z małej litery."
     ]
    }
   ],
   "source": [
    "class PrzykladowaKlasa(metaclass=MethodNameValidator):\n",
    "    def dobra_metoda(self):\n",
    "        print(\"To jest dobra metoda.\")\n",
    "    \n",
    "    def Zla_metoda(self):\n",
    "        print(\"To jest zła metoda.\")"
   ]
  },
  {
   "cell_type": "code",
   "execution_count": 66,
   "metadata": {},
   "outputs": [],
   "source": [
    "#Singleton\n",
    "\n",
    "class Singleton:\n",
    "    _instance = None\n",
    "\n",
    "    def __new__(cls, *args):\n",
    "        if not cls._instance:\n",
    "            cls._instance = super(Singleton, cls).__new__(cls)\n",
    "        return cls._instance\n",
    "    \n",
    "    def __init__(self,x):\n",
    "        if not hasattr(self, 'initialized'):\n",
    "            self._initialized = True\n",
    "            self.x = x\n"
   ]
  },
  {
   "cell_type": "code",
   "execution_count": 69,
   "metadata": {},
   "outputs": [
    {
     "name": "stdout",
     "output_type": "stream",
     "text": [
      "23456789\n",
      "23456789\n"
     ]
    }
   ],
   "source": [
    "s1 = Singleton(10)\n",
    "s2 = Singleton(23456789)\n",
    "print(s1.x) \n",
    "print(s2.x) "
   ]
  },
  {
   "cell_type": "code",
   "execution_count": 63,
   "metadata": {},
   "outputs": [
    {
     "name": "stdout",
     "output_type": "stream",
     "text": [
      "True\n"
     ]
    }
   ],
   "source": [
    "print(s1 is s2)"
   ]
  },
  {
   "cell_type": "code",
   "execution_count": 64,
   "metadata": {},
   "outputs": [
    {
     "data": {
      "text/plain": [
       "<__main__.Singleton at 0x14a64223c10>"
      ]
     },
     "execution_count": 64,
     "metadata": {},
     "output_type": "execute_result"
    }
   ],
   "source": [
    "s1"
   ]
  },
  {
   "cell_type": "code",
   "execution_count": 65,
   "metadata": {},
   "outputs": [
    {
     "data": {
      "text/plain": [
       "<__main__.Singleton at 0x14a64223c10>"
      ]
     },
     "execution_count": 65,
     "metadata": {},
     "output_type": "execute_result"
    }
   ],
   "source": [
    "s2"
   ]
  }
 ],
 "metadata": {
  "kernelspec": {
   "display_name": "Python 3",
   "language": "python",
   "name": "python3"
  },
  "language_info": {
   "codemirror_mode": {
    "name": "ipython",
    "version": 3
   },
   "file_extension": ".py",
   "mimetype": "text/x-python",
   "name": "python",
   "nbconvert_exporter": "python",
   "pygments_lexer": "ipython3",
   "version": "3.11.9"
  }
 },
 "nbformat": 4,
 "nbformat_minor": 2
}
