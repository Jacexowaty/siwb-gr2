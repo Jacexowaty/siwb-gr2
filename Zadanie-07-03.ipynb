{
 "cells": [
  {
   "cell_type": "code",
   "execution_count": 7,
   "metadata": {},
   "outputs": [],
   "source": [
    "class Samochod:\n",
    "\n",
    "    def __init__(self\n",
    "                 ,marka:str\n",
    "                 ,model:str\n",
    "                 ,rok:int):\n",
    "        self.marka = marka\n",
    "        self.model = model\n",
    "        self.rok = rok\n",
    "    \n",
    "    def opis(self):\n",
    "        return f\"{self.marka}, {self.model} z roku {self.rok}\"\n",
    "    \n",
    "    def __repr__(self):\n",
    "        return self.opis()"
   ]
  },
  {
   "cell_type": "code",
   "execution_count": 9,
   "metadata": {},
   "outputs": [],
   "source": [
    "moj_samochod = Samochod(\"Polonez\",\"Caro\",1999)"
   ]
  },
  {
   "cell_type": "code",
   "execution_count": 10,
   "metadata": {},
   "outputs": [
    {
     "data": {
      "text/plain": [
       "Polonez, Caro z roku 1999"
      ]
     },
     "execution_count": 10,
     "metadata": {},
     "output_type": "execute_result"
    }
   ],
   "source": [
    "moj_samochod"
   ]
  },
  {
   "cell_type": "code",
   "execution_count": 11,
   "metadata": {},
   "outputs": [
    {
     "data": {
      "text/plain": [
       "Ford, Fiesta z roku 2011"
      ]
     },
     "execution_count": 11,
     "metadata": {},
     "output_type": "execute_result"
    }
   ],
   "source": [
    "samochod_kolegi = Samochod(\"Ford\",\"Fiesta\",2011)\n",
    "samochod_kolegi"
   ]
  },
  {
   "cell_type": "code",
   "execution_count": 16,
   "metadata": {},
   "outputs": [],
   "source": [
    "class Lampki:\n",
    "    def __init__(self,\n",
    "                 kolor:str,\n",
    "                 moc:int,\n",
    "                 wlaczona:bool):\n",
    "        self.kolor = kolor\n",
    "        self.moc = moc\n",
    "        self.wlaczona = wlaczona\n",
    "\n",
    "    def wlaczanie_i_wylaczanie(self):\n",
    "        self.wlaczona = not self.wlaczona  \n",
    "\n",
    "    def zmien_kolor(self, kolor):\n",
    "        self.kolor = kolor\n",
    "\n",
    "    def opis(self):\n",
    "        return f\"Lampka {self.kolor} o mocy {self.moc}W\" + (\" wlaczona\" if self.wlaczona else \" wylaczona\")\n",
    "    \n",
    "    def __repr__(self):\n",
    "        return self.opis()\n"
   ]
  },
  {
   "cell_type": "code",
   "execution_count": 17,
   "metadata": {},
   "outputs": [
    {
     "data": {
      "text/plain": [
       "Lampka niebieska o mocy 230W wylaczona"
      ]
     },
     "execution_count": 17,
     "metadata": {},
     "output_type": "execute_result"
    }
   ],
   "source": [
    "lampka = Lampki(\"niebieska\", 230, False)\n",
    "lampka"
   ]
  },
  {
   "cell_type": "code",
   "execution_count": 18,
   "metadata": {},
   "outputs": [
    {
     "data": {
      "text/plain": [
       "Lampka zielona o mocy 60W wlaczona"
      ]
     },
     "execution_count": 18,
     "metadata": {},
     "output_type": "execute_result"
    }
   ],
   "source": [
    "lampka_kolegi = Lampki(\"zielona\", 60, True)\n",
    "lampka_kolegi"
   ]
  },
  {
   "cell_type": "code",
   "execution_count": 28,
   "metadata": {},
   "outputs": [],
   "source": [
    "#konto bankowe\n",
    "\n",
    "class KontoBankowe:\n",
    "    oprocentowanie = 0.05\n",
    "\n",
    "    def __init__(self, wlasciciel, saldo_poczatkowe:float):\n",
    "        self.__wlasciciel = wlasciciel\n",
    "        self.__saldo = saldo_poczatkowe\n",
    "\n",
    "    def nalicz_odsetki(self):\n",
    "        self.__saldo += self.__saldo * self.oprocentowanie\n",
    "\n",
    "    def wplata(self, kwota:float):\n",
    "        self.__saldo += kwota\n",
    "\n",
    "    def wyplata(self, kwota:float):\n",
    "        if self.__saldo >= kwota:\n",
    "            self.__saldo -= kwota\n",
    "        else:\n",
    "            raise ValueError(\"Brak srodkow na koncie\")\n",
    "    \n",
    "    def stan_konta(self):\n",
    "        return f\"Stan konta {self.__wlasciciel}: {self.__saldo} PLN\""
   ]
  },
  {
   "cell_type": "code",
   "execution_count": 29,
   "metadata": {},
   "outputs": [
    {
     "data": {
      "text/plain": [
       "'Stan konta Jan Kowalski: 1365.0 PLN'"
      ]
     },
     "execution_count": 29,
     "metadata": {},
     "output_type": "execute_result"
    }
   ],
   "source": [
    "konto1 = KontoBankowe(\"Jan Kowalski\", 1000)\n",
    "\n",
    "konto1.wplata(500)\n",
    "konto1.wyplata(200)\n",
    "konto1.nalicz_odsetki()\n",
    "\n",
    "konto1.stan_konta()"
   ]
  },
  {
   "cell_type": "code",
   "execution_count": 30,
   "metadata": {},
   "outputs": [],
   "source": [
    "konto1.saldo = 1000000"
   ]
  },
  {
   "cell_type": "code",
   "execution_count": 31,
   "metadata": {},
   "outputs": [
    {
     "data": {
      "text/plain": [
       "'Stan konta Jan Kowalski: 1365.0 PLN'"
      ]
     },
     "execution_count": 31,
     "metadata": {},
     "output_type": "execute_result"
    }
   ],
   "source": [
    "konto1.stan_konta()"
   ]
  },
  {
   "cell_type": "code",
   "execution_count": null,
   "metadata": {},
   "outputs": [],
   "source": [
    "#zadanie kolejka do kasy w sklepie dodawanie osob do kolejki oraz ich odejmowanie klasa w ktorej jest pusta lista i za pomoca metod dodajemy i odejmujemy osoby z kolejki a lista była prywatna czyli z __ \n",
    "\n",
    "class KolejkaDoKasy:\n",
    "    def __init__(self):\n",
    "        self.__kolejka = []\n",
    "\n",
    "    def dodaj_osobe(self, osoba:str):\n",
    "        self.__kolejka.append(osoba)\n",
    "\n",
    "    def usun_osobe(self):      \n",
    "        if len(self.__kolejka) > 0:\n",
    "            return self.__kolejka.pop(0)\n",
    "        else:\n",
    "            return None\n",
    "        \n",
    "    def __repr__(self):\n",
    "        return str(self.__kolejka)\n",
    "    \n",
    "kolejka = KolejkaDoKasy()\n",
    "\n"
   ]
  },
  {
   "cell_type": "code",
   "execution_count": 34,
   "metadata": {},
   "outputs": [
    {
     "data": {
      "text/plain": [
       "['Jan Kowalski', 'Anna Nowak', 'Adam Malysz']"
      ]
     },
     "execution_count": 34,
     "metadata": {},
     "output_type": "execute_result"
    }
   ],
   "source": [
    "kolejka.dodaj_osobe(\"Jan Kowalski\")\n",
    "kolejka.dodaj_osobe(\"Anna Nowak\")\n",
    "kolejka.dodaj_osobe(\"Adam Malysz\")\n",
    "kolejka"
   ]
  },
  {
   "cell_type": "code",
   "execution_count": 37,
   "metadata": {},
   "outputs": [
    {
     "data": {
      "text/plain": [
       "['Anna Nowak', 'Adam Malysz']"
      ]
     },
     "execution_count": 37,
     "metadata": {},
     "output_type": "execute_result"
    }
   ],
   "source": [
    "kolejka.usun_osobe()\n",
    "kolejka"
   ]
  },
  {
   "cell_type": "code",
   "execution_count": 38,
   "metadata": {},
   "outputs": [
    {
     "data": {
      "text/plain": [
       "['Adam Malysz', 'Krzysztof Ibisz']"
      ]
     },
     "execution_count": 38,
     "metadata": {},
     "output_type": "execute_result"
    }
   ],
   "source": [
    "\n",
    "kolejka.usun_osobe()\n",
    "kolejka.dodaj_osobe(\"Krzysztof Ibisz\")\n",
    "kolejka"
   ]
  },
  {
   "cell_type": "code",
   "execution_count": null,
   "metadata": {},
   "outputs": [
    {
     "data": {
      "text/plain": [
       "[]"
      ]
     },
     "execution_count": 41,
     "metadata": {},
     "output_type": "execute_result"
    }
   ],
   "source": []
  }
 ],
 "metadata": {
  "kernelspec": {
   "display_name": "Python 3",
   "language": "python",
   "name": "python3"
  },
  "language_info": {
   "codemirror_mode": {
    "name": "ipython",
    "version": 3
   },
   "file_extension": ".py",
   "mimetype": "text/x-python",
   "name": "python",
   "nbconvert_exporter": "python",
   "pygments_lexer": "ipython3",
   "version": "3.11.9"
  }
 },
 "nbformat": 4,
 "nbformat_minor": 2
}
